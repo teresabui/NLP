{
 "cells": [
  {
   "cell_type": "markdown",
   "metadata": {},
   "source": [
    "# <font color='BLUE'> DAB402 - CAPSTONE PROJECT </font>\n",
    "# <font color='BLUE'> SENTIMENT ANALYSIS IN SHORT-TERM RENTAL INDUSTRY  </font>"
   ]
  },
  {
   "cell_type": "markdown",
   "metadata": {},
   "source": [
    "#### <font color='BLUE'>Group Name: Snowflake   </font>  \n",
    "   - Trang Bui- W0753523  "
   ]
  },
  {
   "cell_type": "markdown",
   "metadata": {},
   "source": [
    "### <font color='Green'> Description   </font>\n",
    "- The raw review data are extracted from the website http://insideairbnb.com/get-the-data.html. In this project, we used review data from Montreal, Ottawa, Toronto, Vancouver. Raw data is downloaded and save in the folder \"data/input_output_csv/raw_data\"   \n",
    "\n",
    "### <font color='Green'> Purpose of this notebook   </font>\n",
    "This is the first step to prepare data for sentiment classification model training:   \n",
    "        + Instead of labelling manually for raw data, I decided to apply some pre-trained classification models such as Vader, TextBlob, Flair. The rule of labelling using pre-trained models: \"Final label is kept if three above pretrained models make the same prediction values\"  \n",
    "#### Input:   \n",
    "        - raw data (csv files) in the folder \"data/input_output_csv/raw_data\" that are formatted as (city + \"_reviews.csv\")    \n",
    "#### Output:   \n",
    "        - labelled data (csv files) in the folder \"data/input_output_csv/buffer\" that are formatted as (city + '_reviews_labelled_full.csv')     \n",
    "In which, <font color='blue'>city</font> include \"vancouver, toronto, montreal, ottawa\"\n",
    "\n",
    "### <font color='Green'> Steps to execute   </font>\n",
    "- Assign the city name one by one to the variable \"city\", then run the entire notebook\n",
    "        \n",
    "<img src=\"images/image1.jpg\">"
   ]
  },
  {
   "cell_type": "markdown",
   "metadata": {},
   "source": [
    "### <font color='purple'>Import libraries</font> "
   ]
  },
  {
   "cell_type": "code",
   "execution_count": 1,
   "metadata": {},
   "outputs": [],
   "source": [
    "#pip install nltk==3.3\n",
    "#pip install vaderSentiment\n",
    "#pip install pycorenlp\n",
    "#pip install flair\n",
    "#pip install BeautifulSoup4# pip install imblearn\n",
    "#pip install pycontractions\n",
    "\n",
    "#pip install --user vaderSentiment\n",
    "#pip install --user flair\n",
    "#pip install --user textblob\n",
    "#pip install --user langdetect\n",
    "#pip install --user plotly\n",
    "#pip install --user seaborn\n",
    "#pip install --user matplotlib\n",
    "#pip install --user statsmodels\n",
    "#pip install tensorflow --user\n",
    "#pip install --user sklearn\n",
    "#pip install tensorflow --user\n",
    "#pip install --upgrade scikit-learn"
   ]
  },
  {
   "cell_type": "code",
   "execution_count": 2,
   "metadata": {},
   "outputs": [],
   "source": [
    "# Import the appropriate Libraries\n",
    "import warnings \n",
    "warnings.filterwarnings(\"ignore\", category=DeprecationWarning)\n",
    "\n",
    "import time\n",
    "import os, sys    \n",
    "from datetime import datetime, date\n",
    "import numpy as np\n",
    "import pandas as pd # for dataframes\n",
    "import tensorflow as tf\n",
    "import nltk\n",
    "import re\n",
    "import string\n",
    "from statsmodels.tsa.arima_model import ARIMA\n",
    "\n",
    "import matplotlib.pyplot as plt # for plotting graphs\n",
    "import seaborn as sns # for plotting graphs\n",
    "import plotly.graph_objs as go #visualization\n",
    "import plotly.offline as py#visualization\n",
    "import itertools"
   ]
  },
  {
   "cell_type": "code",
   "execution_count": 3,
   "metadata": {},
   "outputs": [],
   "source": [
    "city = 'vancouver'"
   ]
  },
  {
   "cell_type": "markdown",
   "metadata": {},
   "source": [
    "## <font color='purple'>Load Raw Data</font> "
   ]
  },
  {
   "cell_type": "code",
   "execution_count": 4,
   "metadata": {},
   "outputs": [
    {
     "name": "stdout",
     "output_type": "stream",
     "text": [
      "df.shape:  (147936, 6)\n",
      "DONE Load raw data\n"
     ]
    }
   ],
   "source": [
    "# Read the data\n",
    "input_folder = './data/input_output_csv/raw_data/'\n",
    "buffer_folder = './data/input_output_csv/buffer/'\n",
    "df = pd.read_csv(input_folder + city + '_reviews.csv')\n",
    "df_orig = df.copy()\n",
    "print('df.shape: ',df.shape)\n",
    "df.head()\n",
    "print('DONE Load raw data')"
   ]
  },
  {
   "cell_type": "markdown",
   "metadata": {},
   "source": [
    "## <font color='purple'>Remove Non-English Reviews from Raw Data </font> "
   ]
  },
  {
   "cell_type": "code",
   "execution_count": 5,
   "metadata": {},
   "outputs": [],
   "source": [
    "#from pycontractions import Contractions\n",
    "from langdetect import detect\n",
    "\n",
    "#Remove non-English review\n",
    "def language_detection(text):\n",
    "    try:\n",
    "        return detect(text)\n",
    "    except:\n",
    "        return \"Non-Language\""
   ]
  },
  {
   "cell_type": "code",
   "execution_count": 6,
   "metadata": {},
   "outputs": [
    {
     "name": "stdout",
     "output_type": "stream",
     "text": [
      "Df shape after removing non-English:  (138551, 7)\n"
     ]
    }
   ],
   "source": [
    "df['lang'] = df['comments'].apply(language_detection)\n",
    "df_en = df[(df['lang']== \"en\")]\n",
    "print('Df shape after removing non-English: ',df_en.shape)"
   ]
  },
  {
   "cell_type": "code",
   "execution_count": 7,
   "metadata": {},
   "outputs": [],
   "source": [
    "df_en.to_csv(buffer_folder + city + '_reviews_en.csv', index = False)"
   ]
  },
  {
   "cell_type": "code",
   "execution_count": 8,
   "metadata": {},
   "outputs": [
    {
     "data": {
      "text/html": [
       "<div>\n",
       "<style scoped>\n",
       "    .dataframe tbody tr th:only-of-type {\n",
       "        vertical-align: middle;\n",
       "    }\n",
       "\n",
       "    .dataframe tbody tr th {\n",
       "        vertical-align: top;\n",
       "    }\n",
       "\n",
       "    .dataframe thead th {\n",
       "        text-align: right;\n",
       "    }\n",
       "</style>\n",
       "<table border=\"1\" class=\"dataframe\">\n",
       "  <thead>\n",
       "    <tr style=\"text-align: right;\">\n",
       "      <th></th>\n",
       "      <th>listing_id</th>\n",
       "      <th>id</th>\n",
       "      <th>date</th>\n",
       "      <th>reviewer_id</th>\n",
       "      <th>reviewer_name</th>\n",
       "      <th>comments</th>\n",
       "      <th>lang</th>\n",
       "    </tr>\n",
       "  </thead>\n",
       "  <tbody>\n",
       "    <tr>\n",
       "      <th>0</th>\n",
       "      <td>10080</td>\n",
       "      <td>720466</td>\n",
       "      <td>2011-11-15</td>\n",
       "      <td>143771</td>\n",
       "      <td>Anthony</td>\n",
       "      <td>this accommodation was excellent. beautiful sp...</td>\n",
       "      <td>en</td>\n",
       "    </tr>\n",
       "    <tr>\n",
       "      <th>1</th>\n",
       "      <td>10080</td>\n",
       "      <td>786114</td>\n",
       "      <td>2011-12-14</td>\n",
       "      <td>1472653</td>\n",
       "      <td>Nilesh</td>\n",
       "      <td>The host canceled my reservation 13 days befor...</td>\n",
       "      <td>en</td>\n",
       "    </tr>\n",
       "    <tr>\n",
       "      <th>2</th>\n",
       "      <td>10080</td>\n",
       "      <td>989885</td>\n",
       "      <td>2012-03-12</td>\n",
       "      <td>1433564</td>\n",
       "      <td>Avril</td>\n",
       "      <td>This apartment is fantastic, just what I and m...</td>\n",
       "      <td>en</td>\n",
       "    </tr>\n",
       "    <tr>\n",
       "      <th>3</th>\n",
       "      <td>10080</td>\n",
       "      <td>1419559</td>\n",
       "      <td>2012-06-05</td>\n",
       "      <td>725806</td>\n",
       "      <td>Dennis</td>\n",
       "      <td>Very nice apartment and great view. Close to S...</td>\n",
       "      <td>en</td>\n",
       "    </tr>\n",
       "    <tr>\n",
       "      <th>4</th>\n",
       "      <td>10080</td>\n",
       "      <td>3354964</td>\n",
       "      <td>2013-01-15</td>\n",
       "      <td>3641867</td>\n",
       "      <td>Jude</td>\n",
       "      <td>Both Rami and Mauricio made our family of 5 fe...</td>\n",
       "      <td>en</td>\n",
       "    </tr>\n",
       "  </tbody>\n",
       "</table>\n",
       "</div>"
      ],
      "text/plain": [
       "   listing_id       id        date  reviewer_id reviewer_name  \\\n",
       "0       10080   720466  2011-11-15       143771       Anthony   \n",
       "1       10080   786114  2011-12-14      1472653        Nilesh   \n",
       "2       10080   989885  2012-03-12      1433564         Avril   \n",
       "3       10080  1419559  2012-06-05       725806        Dennis   \n",
       "4       10080  3354964  2013-01-15      3641867          Jude   \n",
       "\n",
       "                                            comments lang  \n",
       "0  this accommodation was excellent. beautiful sp...   en  \n",
       "1  The host canceled my reservation 13 days befor...   en  \n",
       "2  This apartment is fantastic, just what I and m...   en  \n",
       "3  Very nice apartment and great view. Close to S...   en  \n",
       "4  Both Rami and Mauricio made our family of 5 fe...   en  "
      ]
     },
     "execution_count": 8,
     "metadata": {},
     "output_type": "execute_result"
    }
   ],
   "source": [
    "df=df_en.copy()\n",
    "df.head()"
   ]
  },
  {
   "cell_type": "markdown",
   "metadata": {},
   "source": [
    "## <font color='purple'>Labelling to raw data using Pre-trained Models such as Vader, TextBlob, Flair</font> "
   ]
  },
  {
   "cell_type": "code",
   "execution_count": 9,
   "metadata": {},
   "outputs": [
    {
     "name": "stdout",
     "output_type": "stream",
     "text": [
      "df.shape:  (138551, 7)\n"
     ]
    },
    {
     "data": {
      "text/html": [
       "<div>\n",
       "<style scoped>\n",
       "    .dataframe tbody tr th:only-of-type {\n",
       "        vertical-align: middle;\n",
       "    }\n",
       "\n",
       "    .dataframe tbody tr th {\n",
       "        vertical-align: top;\n",
       "    }\n",
       "\n",
       "    .dataframe thead th {\n",
       "        text-align: right;\n",
       "    }\n",
       "</style>\n",
       "<table border=\"1\" class=\"dataframe\">\n",
       "  <thead>\n",
       "    <tr style=\"text-align: right;\">\n",
       "      <th></th>\n",
       "      <th>listing_id</th>\n",
       "      <th>id</th>\n",
       "      <th>date</th>\n",
       "      <th>reviewer_id</th>\n",
       "      <th>reviewer_name</th>\n",
       "      <th>comments</th>\n",
       "      <th>lang</th>\n",
       "    </tr>\n",
       "  </thead>\n",
       "  <tbody>\n",
       "    <tr>\n",
       "      <th>0</th>\n",
       "      <td>10080</td>\n",
       "      <td>720466</td>\n",
       "      <td>2011-11-15</td>\n",
       "      <td>143771</td>\n",
       "      <td>Anthony</td>\n",
       "      <td>this accommodation was excellent. beautiful sp...</td>\n",
       "      <td>en</td>\n",
       "    </tr>\n",
       "    <tr>\n",
       "      <th>1</th>\n",
       "      <td>10080</td>\n",
       "      <td>786114</td>\n",
       "      <td>2011-12-14</td>\n",
       "      <td>1472653</td>\n",
       "      <td>Nilesh</td>\n",
       "      <td>The host canceled my reservation 13 days befor...</td>\n",
       "      <td>en</td>\n",
       "    </tr>\n",
       "    <tr>\n",
       "      <th>2</th>\n",
       "      <td>10080</td>\n",
       "      <td>989885</td>\n",
       "      <td>2012-03-12</td>\n",
       "      <td>1433564</td>\n",
       "      <td>Avril</td>\n",
       "      <td>This apartment is fantastic, just what I and m...</td>\n",
       "      <td>en</td>\n",
       "    </tr>\n",
       "    <tr>\n",
       "      <th>3</th>\n",
       "      <td>10080</td>\n",
       "      <td>1419559</td>\n",
       "      <td>2012-06-05</td>\n",
       "      <td>725806</td>\n",
       "      <td>Dennis</td>\n",
       "      <td>Very nice apartment and great view. Close to S...</td>\n",
       "      <td>en</td>\n",
       "    </tr>\n",
       "    <tr>\n",
       "      <th>4</th>\n",
       "      <td>10080</td>\n",
       "      <td>3354964</td>\n",
       "      <td>2013-01-15</td>\n",
       "      <td>3641867</td>\n",
       "      <td>Jude</td>\n",
       "      <td>Both Rami and Mauricio made our family of 5 fe...</td>\n",
       "      <td>en</td>\n",
       "    </tr>\n",
       "  </tbody>\n",
       "</table>\n",
       "</div>"
      ],
      "text/plain": [
       "   listing_id       id        date  reviewer_id reviewer_name  \\\n",
       "0       10080   720466  2011-11-15       143771       Anthony   \n",
       "1       10080   786114  2011-12-14      1472653        Nilesh   \n",
       "2       10080   989885  2012-03-12      1433564         Avril   \n",
       "3       10080  1419559  2012-06-05       725806        Dennis   \n",
       "4       10080  3354964  2013-01-15      3641867          Jude   \n",
       "\n",
       "                                            comments lang  \n",
       "0  this accommodation was excellent. beautiful sp...   en  \n",
       "1  The host canceled my reservation 13 days befor...   en  \n",
       "2  This apartment is fantastic, just what I and m...   en  \n",
       "3  Very nice apartment and great view. Close to S...   en  \n",
       "4  Both Rami and Mauricio made our family of 5 fe...   en  "
      ]
     },
     "execution_count": 9,
     "metadata": {},
     "output_type": "execute_result"
    }
   ],
   "source": [
    "df = pd.read_csv(buffer_folder + city + '_reviews_en.csv')\n",
    "print('df.shape: ',df.shape)\n",
    "df.head()"
   ]
  },
  {
   "cell_type": "code",
   "execution_count": 10,
   "metadata": {},
   "outputs": [
    {
     "name": "stderr",
     "output_type": "stream",
     "text": [
      "[nltk_data] Downloading package vader_lexicon to\n",
      "[nltk_data]     C:\\Users\\teres\\AppData\\Roaming\\nltk_data...\n",
      "[nltk_data]   Package vader_lexicon is already up-to-date!\n"
     ]
    }
   ],
   "source": [
    "from nltk.sentiment.util import *\n",
    "nltk.download('vader_lexicon')\n",
    "from nltk.sentiment.vader import SentimentIntensityAnalyzer\n",
    "\n",
    "from textblob import TextBlob\n",
    "\n",
    "import flair\n",
    "from flair.models import TextClassifier\n",
    "from flair.data import Sentence\n",
    "\n",
    "\n",
    "\n",
    "def txtblob_get_polarity(text): \n",
    "    return TextBlob(text).sentiment.polarity \n",
    "\n",
    "def do_labelling(model, df, buffer_folder, file_name):\n",
    "    start_process = time.time()\n",
    "    if (model=='vader'):\n",
    "        sid = SentimentIntensityAnalyzer()\n",
    "        df['vader'] = df['comments'].apply(lambda comments:sid.polarity_scores(comments))\n",
    "        df['vader_score'] = df['vader'].apply(lambda score_dict: score_dict['compound']) \n",
    "        df['vader_target']=''\n",
    "        df.loc[df.vader_score>0,'vader_target']='POSITIVE' \n",
    "        df.loc[df.vader_score==0,'vader_target']='NEUTRAL' \n",
    "        df.loc[df.vader_score<0,'vader_target']='NEGATIVE'\n",
    "    \n",
    "    if (model=='textblob'):\n",
    "        df['txtblob_Polarity'] = df['comments'].apply(txtblob_get_polarity)\n",
    "        df['txtblob_target']=''\n",
    "        df.loc[df.txtblob_Polarity>0,'txtblob_target']= 'POSITIVE' \n",
    "        df.loc[df.txtblob_Polarity==0,'txtblob_target']= 'NEUTRAL'\n",
    "        df.loc[df.txtblob_Polarity<0,'txtblob_target']='NEGATIVE'\n",
    "    \n",
    "    if (model=='flair'):\n",
    "        flair_score=[]\n",
    "        flair_target=[]\n",
    "        # Create Flair Model\n",
    "        pd.set_option('display.max_colwidth',None)\n",
    "        flair_model = TextClassifier.load('en-sentiment')\n",
    "\n",
    "        #fitting\n",
    "        for text in df['comments']:\n",
    "            if text.strip()==\"\":\n",
    "                flair_score.append(\"\")\n",
    "                flair_target.append(\"\")\n",
    "            else:        \n",
    "                sentence = Sentence(text)\n",
    "                flair_model.predict(sentence)\n",
    "                flair_score.append(sentence.labels[0].score)\n",
    "                flair_target.append(sentence.labels[0].value)\n",
    "\n",
    "        df['flair_score']=flair_score\n",
    "        df['flair_target']= flair_target\n",
    "        \n",
    "    df.to_csv(buffer_folder + file_name, index = False)\n",
    "    print(\"+++++ labelling \", model, \" duration--- %s seconds ---\" % (time.time() - start_process))\n",
    "    return df"
   ]
  },
  {
   "cell_type": "code",
   "execution_count": 11,
   "metadata": {},
   "outputs": [
    {
     "name": "stdout",
     "output_type": "stream",
     "text": [
      "+++++ labelling  vader  duration--- 87.4802348613739 seconds ---\n"
     ]
    }
   ],
   "source": [
    "file_name= city + '_reviews_labelled_VADER.csv'\n",
    "df = do_labelling('vader', df, buffer_folder,file_name )"
   ]
  },
  {
   "cell_type": "code",
   "execution_count": 12,
   "metadata": {},
   "outputs": [
    {
     "name": "stdout",
     "output_type": "stream",
     "text": [
      "+++++ labelling  textblob  duration--- 73.40068054199219 seconds ---\n"
     ]
    }
   ],
   "source": [
    "df = pd.read_csv(buffer_folder + city + '_reviews_labelled_VADER.csv')\n",
    "\n",
    "file_name = city + '_reviews_labelled_TEXTBLOB.csv'\n",
    "df = do_labelling('textblob', df, buffer_folder,file_name )"
   ]
  },
  {
   "cell_type": "code",
   "execution_count": 13,
   "metadata": {},
   "outputs": [
    {
     "name": "stdout",
     "output_type": "stream",
     "text": [
      "2021-04-21 21:15:28,386 loading file C:\\Users\\teres\\.flair\\models\\sentiment-en-mix-distillbert_3.1.pt\n",
      "+++++ labelling  flair  duration--- 12713.397769927979 seconds ---\n"
     ]
    }
   ],
   "source": [
    "df = pd.read_csv(buffer_folder + city + '_reviews_labelled_TEXTBLOB.csv')\n",
    "\n",
    "file_name = city + '_reviews_labelled_FLAIR.csv'\n",
    "df = do_labelling('flair', df, buffer_folder,file_name )"
   ]
  },
  {
   "cell_type": "code",
   "execution_count": 14,
   "metadata": {},
   "outputs": [
    {
     "name": "stdout",
     "output_type": "stream",
     "text": [
      "df.shape (138551, 14)\n"
     ]
    },
    {
     "data": {
      "text/html": [
       "<div>\n",
       "<style scoped>\n",
       "    .dataframe tbody tr th:only-of-type {\n",
       "        vertical-align: middle;\n",
       "    }\n",
       "\n",
       "    .dataframe tbody tr th {\n",
       "        vertical-align: top;\n",
       "    }\n",
       "\n",
       "    .dataframe thead th {\n",
       "        text-align: right;\n",
       "    }\n",
       "</style>\n",
       "<table border=\"1\" class=\"dataframe\">\n",
       "  <thead>\n",
       "    <tr style=\"text-align: right;\">\n",
       "      <th></th>\n",
       "      <th>listing_id</th>\n",
       "      <th>id</th>\n",
       "      <th>date</th>\n",
       "      <th>reviewer_id</th>\n",
       "      <th>reviewer_name</th>\n",
       "      <th>comments</th>\n",
       "      <th>lang</th>\n",
       "      <th>vader</th>\n",
       "      <th>vader_score</th>\n",
       "      <th>vader_target</th>\n",
       "      <th>txtblob_Polarity</th>\n",
       "      <th>txtblob_target</th>\n",
       "      <th>flair_score</th>\n",
       "      <th>flair_target</th>\n",
       "    </tr>\n",
       "  </thead>\n",
       "  <tbody>\n",
       "    <tr>\n",
       "      <th>0</th>\n",
       "      <td>10080</td>\n",
       "      <td>720466</td>\n",
       "      <td>2011-11-15</td>\n",
       "      <td>143771</td>\n",
       "      <td>Anthony</td>\n",
       "      <td>this accommodation was excellent. beautiful space, nicely appointed, clean, amazing view, location is great and there is a parking space for a small fee. our check in went on time and smoothly, simon was very pleasant to deal with. all around happy experience.</td>\n",
       "      <td>en</td>\n",
       "      <td>{'neg': 0.0, 'neu': 0.538, 'pos': 0.462, 'compound': 0.9824}</td>\n",
       "      <td>0.9824</td>\n",
       "      <td>POSITIVE</td>\n",
       "      <td>0.61200</td>\n",
       "      <td>POSITIVE</td>\n",
       "      <td>0.986393</td>\n",
       "      <td>POSITIVE</td>\n",
       "    </tr>\n",
       "    <tr>\n",
       "      <th>1</th>\n",
       "      <td>10080</td>\n",
       "      <td>786114</td>\n",
       "      <td>2011-12-14</td>\n",
       "      <td>1472653</td>\n",
       "      <td>Nilesh</td>\n",
       "      <td>The host canceled my reservation 13 days before arrival.</td>\n",
       "      <td>en</td>\n",
       "      <td>{'neg': 0.0, 'neu': 1.0, 'pos': 0.0, 'compound': 0.0}</td>\n",
       "      <td>0.0000</td>\n",
       "      <td>NEUTRAL</td>\n",
       "      <td>0.00000</td>\n",
       "      <td>NEUTRAL</td>\n",
       "      <td>0.999539</td>\n",
       "      <td>NEGATIVE</td>\n",
       "    </tr>\n",
       "    <tr>\n",
       "      <th>2</th>\n",
       "      <td>10080</td>\n",
       "      <td>989885</td>\n",
       "      <td>2012-03-12</td>\n",
       "      <td>1433564</td>\n",
       "      <td>Avril</td>\n",
       "      <td>This apartment is fantastic, just what I and my 5 graduate students were looking for.  The beds are very comfortable, the kitchen is well-equipped, and the apartment is only a few blocks from the convention center.  We paid much less for housing than our colleagues who were staying in hotels, and we saved a lot on food because of the kitchen. Has a dishwasher, and a washer &amp; dryer.  I was initially confused about how many people could be accommodated because the website said it sleeps 6 but \"extra guests are free\", but Rami clarified that there are 2 queen beds and 2 single beds can be brought in, so that it accommodates a total of 6. The apartment is a corporate suite on the 36th floor of the Marriott, 2 floors from the top with great views of Stanley Park, the seaplane port, and the city. I'd like to bring my family and come back for a vacation. Rami was very responsive and his staff met us at the entrance to the building to get us oriented and settled in.  Very professional.</td>\n",
       "      <td>en</td>\n",
       "      <td>{'neg': 0.017, 'neu': 0.867, 'pos': 0.116, 'compound': 0.9595}</td>\n",
       "      <td>0.9595</td>\n",
       "      <td>POSITIVE</td>\n",
       "      <td>0.13955</td>\n",
       "      <td>POSITIVE</td>\n",
       "      <td>0.999791</td>\n",
       "      <td>POSITIVE</td>\n",
       "    </tr>\n",
       "  </tbody>\n",
       "</table>\n",
       "</div>"
      ],
      "text/plain": [
       "   listing_id      id        date  reviewer_id reviewer_name  \\\n",
       "0       10080  720466  2011-11-15       143771       Anthony   \n",
       "1       10080  786114  2011-12-14      1472653        Nilesh   \n",
       "2       10080  989885  2012-03-12      1433564         Avril   \n",
       "\n",
       "                                                                                                                                                                                                                                                                                                                                                                                                                                                                                                                                                                                                                                                                                                                                                                                                                                                                                                                                                                                                                           comments  \\\n",
       "0                                                                                                                                                                                                                                                                                                                                                                                                                                                                                                                                                                                                                                                                                                                                                              this accommodation was excellent. beautiful space, nicely appointed, clean, amazing view, location is great and there is a parking space for a small fee. our check in went on time and smoothly, simon was very pleasant to deal with. all around happy experience.   \n",
       "1                                                                                                                                                                                                                                                                                                                                                                                                                                                                                                                                                                                                                                                                                                                                                                                                                                                                                                                                                                          The host canceled my reservation 13 days before arrival.   \n",
       "2  This apartment is fantastic, just what I and my 5 graduate students were looking for.  The beds are very comfortable, the kitchen is well-equipped, and the apartment is only a few blocks from the convention center.  We paid much less for housing than our colleagues who were staying in hotels, and we saved a lot on food because of the kitchen. Has a dishwasher, and a washer & dryer.  I was initially confused about how many people could be accommodated because the website said it sleeps 6 but \"extra guests are free\", but Rami clarified that there are 2 queen beds and 2 single beds can be brought in, so that it accommodates a total of 6. The apartment is a corporate suite on the 36th floor of the Marriott, 2 floors from the top with great views of Stanley Park, the seaplane port, and the city. I'd like to bring my family and come back for a vacation. Rami was very responsive and his staff met us at the entrance to the building to get us oriented and settled in.  Very professional.   \n",
       "\n",
       "  lang                                                           vader  \\\n",
       "0   en    {'neg': 0.0, 'neu': 0.538, 'pos': 0.462, 'compound': 0.9824}   \n",
       "1   en           {'neg': 0.0, 'neu': 1.0, 'pos': 0.0, 'compound': 0.0}   \n",
       "2   en  {'neg': 0.017, 'neu': 0.867, 'pos': 0.116, 'compound': 0.9595}   \n",
       "\n",
       "   vader_score vader_target  txtblob_Polarity txtblob_target  flair_score  \\\n",
       "0       0.9824     POSITIVE           0.61200       POSITIVE     0.986393   \n",
       "1       0.0000      NEUTRAL           0.00000        NEUTRAL     0.999539   \n",
       "2       0.9595     POSITIVE           0.13955       POSITIVE     0.999791   \n",
       "\n",
       "  flair_target  \n",
       "0     POSITIVE  \n",
       "1     NEGATIVE  \n",
       "2     POSITIVE  "
      ]
     },
     "execution_count": 14,
     "metadata": {},
     "output_type": "execute_result"
    }
   ],
   "source": [
    "print('df.shape',df.shape)\n",
    "df.head(3)"
   ]
  },
  {
   "cell_type": "code",
   "execution_count": 15,
   "metadata": {},
   "outputs": [],
   "source": [
    "df_tmp=pd.DataFrame()\n",
    "df_tmp['tmp']=df[['vader_target','txtblob_target','flair_target']].values.tolist()\n",
    "df_tmp=df_tmp['tmp'].apply(pd.Series.value_counts)\n",
    "\n",
    "conditions=[(df_tmp['POSITIVE']==3),(df_tmp['NEUTRAL']==2),(df_tmp['NEGATIVE']==3)]\n",
    "values=['POSITIVE','NEUTRAL','NEGATIVE']\n",
    "df_tmp['label']=np.select(conditions,values)\n",
    "\n",
    "df_tmp=df_tmp.query('label==\"POSITIVE\" | label==\"NEUTRAL\" | label==\"NEGATIVE\"')\n",
    "\n",
    "df_final=pd.concat([df['listing_id'],df['comments'], df_tmp['label']], axis=1, join=\"inner\")\n",
    "df_final.to_csv(buffer_folder + city + '_reviews_labelled_full.csv', index = False)"
   ]
  },
  {
   "cell_type": "code",
   "execution_count": 16,
   "metadata": {},
   "outputs": [
    {
     "data": {
      "text/html": [
       "<div>\n",
       "<style scoped>\n",
       "    .dataframe tbody tr th:only-of-type {\n",
       "        vertical-align: middle;\n",
       "    }\n",
       "\n",
       "    .dataframe tbody tr th {\n",
       "        vertical-align: top;\n",
       "    }\n",
       "\n",
       "    .dataframe thead th {\n",
       "        text-align: right;\n",
       "    }\n",
       "</style>\n",
       "<table border=\"1\" class=\"dataframe\">\n",
       "  <thead>\n",
       "    <tr style=\"text-align: right;\">\n",
       "      <th></th>\n",
       "      <th>listing_id</th>\n",
       "      <th>comments</th>\n",
       "      <th>label</th>\n",
       "    </tr>\n",
       "  </thead>\n",
       "  <tbody>\n",
       "    <tr>\n",
       "      <th>0</th>\n",
       "      <td>10080</td>\n",
       "      <td>this accommodation was excellent. beautiful space, nicely appointed, clean, amazing view, location is great and there is a parking space for a small fee. our check in went on time and smoothly, simon was very pleasant to deal with. all around happy experience.</td>\n",
       "      <td>POSITIVE</td>\n",
       "    </tr>\n",
       "    <tr>\n",
       "      <th>1</th>\n",
       "      <td>10080</td>\n",
       "      <td>The host canceled my reservation 13 days before arrival.</td>\n",
       "      <td>NEUTRAL</td>\n",
       "    </tr>\n",
       "    <tr>\n",
       "      <th>2</th>\n",
       "      <td>10080</td>\n",
       "      <td>This apartment is fantastic, just what I and my 5 graduate students were looking for.  The beds are very comfortable, the kitchen is well-equipped, and the apartment is only a few blocks from the convention center.  We paid much less for housing than our colleagues who were staying in hotels, and we saved a lot on food because of the kitchen. Has a dishwasher, and a washer &amp; dryer.  I was initially confused about how many people could be accommodated because the website said it sleeps 6 but \"extra guests are free\", but Rami clarified that there are 2 queen beds and 2 single beds can be brought in, so that it accommodates a total of 6. The apartment is a corporate suite on the 36th floor of the Marriott, 2 floors from the top with great views of Stanley Park, the seaplane port, and the city. I'd like to bring my family and come back for a vacation. Rami was very responsive and his staff met us at the entrance to the building to get us oriented and settled in.  Very professional.</td>\n",
       "      <td>POSITIVE</td>\n",
       "    </tr>\n",
       "    <tr>\n",
       "      <th>3</th>\n",
       "      <td>10080</td>\n",
       "      <td>Very nice apartment and great view. Close to Stanley Park and Robson street. Convenient underground parking space. Two extra single electric air beds are included, although the air beds will leak some air overnight.\\r\\n</td>\n",
       "      <td>POSITIVE</td>\n",
       "    </tr>\n",
       "    <tr>\n",
       "      <th>4</th>\n",
       "      <td>10080</td>\n",
       "      <td>Both Rami and Mauricio made our family of 5 feel very welcome and were extremely helpful with our booking and questions.  The apartment and facilities were fantastic - we would definitely stay here again. Great spot right down town, close to all of Vancouvers sites and transport, and to be treated at the end of the day with a soak in the hot tub was truly luxurious. The views are stunning too.</td>\n",
       "      <td>POSITIVE</td>\n",
       "    </tr>\n",
       "    <tr>\n",
       "      <th>...</th>\n",
       "      <td>...</td>\n",
       "      <td>...</td>\n",
       "      <td>...</td>\n",
       "    </tr>\n",
       "    <tr>\n",
       "      <th>138546</th>\n",
       "      <td>47929231</td>\n",
       "      <td>The unit is as described and the view is even better than the photos! The cleanliness is satisfactory and I feel comfy staying there. Convenient location with skytrain and Costco just across street. I will come back again!</td>\n",
       "      <td>POSITIVE</td>\n",
       "    </tr>\n",
       "    <tr>\n",
       "      <th>138547</th>\n",
       "      <td>48015009</td>\n",
       "      <td>We had wonderful stay at  May's apartment. The location could not be better, very central, short walking distance from all the main attractions.  The apartment was very clean and spacious.</td>\n",
       "      <td>POSITIVE</td>\n",
       "    </tr>\n",
       "    <tr>\n",
       "      <th>138548</th>\n",
       "      <td>48015009</td>\n",
       "      <td>Ideal location, spacious apartment and well equipped – perfect for a few days or long term in Vancouver. Communication with May was very easy, and the photo directions for finding the place were a great help. Highly recommended!</td>\n",
       "      <td>POSITIVE</td>\n",
       "    </tr>\n",
       "    <tr>\n",
       "      <th>138549</th>\n",
       "      <td>48015009</td>\n",
       "      <td>Clean, modern, comfortable, well equipped and well laid out. What else can I say? I definitely recommend May's place!</td>\n",
       "      <td>POSITIVE</td>\n",
       "    </tr>\n",
       "    <tr>\n",
       "      <th>138550</th>\n",
       "      <td>48015009</td>\n",
       "      <td>The place is ideal for anyone looking for a central base for exploring Vancouver. Spacious and Clean!</td>\n",
       "      <td>POSITIVE</td>\n",
       "    </tr>\n",
       "  </tbody>\n",
       "</table>\n",
       "<p>133832 rows × 3 columns</p>\n",
       "</div>"
      ],
      "text/plain": [
       "        listing_id  \\\n",
       "0            10080   \n",
       "1            10080   \n",
       "2            10080   \n",
       "3            10080   \n",
       "4            10080   \n",
       "...            ...   \n",
       "138546    47929231   \n",
       "138547    48015009   \n",
       "138548    48015009   \n",
       "138549    48015009   \n",
       "138550    48015009   \n",
       "\n",
       "                                                                                                                                                                                                                                                                                                                                                                                                                                                                                                                                                                                                                                                                                                                                                                                                                                                                                                                                                                                                                                comments  \\\n",
       "0                                                                                                                                                                                                                                                                                                                                                                                                                                                                                                                                                                                                                                                                                                                                                                   this accommodation was excellent. beautiful space, nicely appointed, clean, amazing view, location is great and there is a parking space for a small fee. our check in went on time and smoothly, simon was very pleasant to deal with. all around happy experience.   \n",
       "1                                                                                                                                                                                                                                                                                                                                                                                                                                                                                                                                                                                                                                                                                                                                                                                                                                                                                                                                                                               The host canceled my reservation 13 days before arrival.   \n",
       "2       This apartment is fantastic, just what I and my 5 graduate students were looking for.  The beds are very comfortable, the kitchen is well-equipped, and the apartment is only a few blocks from the convention center.  We paid much less for housing than our colleagues who were staying in hotels, and we saved a lot on food because of the kitchen. Has a dishwasher, and a washer & dryer.  I was initially confused about how many people could be accommodated because the website said it sleeps 6 but \"extra guests are free\", but Rami clarified that there are 2 queen beds and 2 single beds can be brought in, so that it accommodates a total of 6. The apartment is a corporate suite on the 36th floor of the Marriott, 2 floors from the top with great views of Stanley Park, the seaplane port, and the city. I'd like to bring my family and come back for a vacation. Rami was very responsive and his staff met us at the entrance to the building to get us oriented and settled in.  Very professional.   \n",
       "3                                                                                                                                                                                                                                                                                                                                                                                                                                                                                                                                                                                                                                                                                                                                                                                                            Very nice apartment and great view. Close to Stanley Park and Robson street. Convenient underground parking space. Two extra single electric air beds are included, although the air beds will leak some air overnight.\\r\\n   \n",
       "4                                                                                                                                                                                                                                                                                                                                                                                                                                                                                                                                                                                                                          Both Rami and Mauricio made our family of 5 feel very welcome and were extremely helpful with our booking and questions.  The apartment and facilities were fantastic - we would definitely stay here again. Great spot right down town, close to all of Vancouvers sites and transport, and to be treated at the end of the day with a soak in the hot tub was truly luxurious. The views are stunning too.    \n",
       "...                                                                                                                                                                                                                                                                                                                                                                                                                                                                                                                                                                                                                                                                                                                                                                                                                                                                                                                                                                                                                                  ...   \n",
       "138546                                                                                                                                                                                                                                                                                                                                                                                                                                                                                                                                                                                                                                                                                                                                                                                                    The unit is as described and the view is even better than the photos! The cleanliness is satisfactory and I feel comfy staying there. Convenient location with skytrain and Costco just across street. I will come back again!   \n",
       "138547                                                                                                                                                                                                                                                                                                                                                                                                                                                                                                                                                                                                                                                                                                                                                                                                                                      We had wonderful stay at  May's apartment. The location could not be better, very central, short walking distance from all the main attractions.  The apartment was very clean and spacious.   \n",
       "138548                                                                                                                                                                                                                                                                                                                                                                                                                                                                                                                                                                                                                                                                                                                                                                                              Ideal location, spacious apartment and well equipped – perfect for a few days or long term in Vancouver. Communication with May was very easy, and the photo directions for finding the place were a great help. Highly recommended!   \n",
       "138549                                                                                                                                                                                                                                                                                                                                                                                                                                                                                                                                                                                                                                                                                                                                                                                                                                                                                                             Clean, modern, comfortable, well equipped and well laid out. What else can I say? I definitely recommend May's place!   \n",
       "138550                                                                                                                                                                                                                                                                                                                                                                                                                                                                                                                                                                                                                                                                                                                                                                                                                                                                                                                             The place is ideal for anyone looking for a central base for exploring Vancouver. Spacious and Clean!   \n",
       "\n",
       "           label  \n",
       "0       POSITIVE  \n",
       "1        NEUTRAL  \n",
       "2       POSITIVE  \n",
       "3       POSITIVE  \n",
       "4       POSITIVE  \n",
       "...          ...  \n",
       "138546  POSITIVE  \n",
       "138547  POSITIVE  \n",
       "138548  POSITIVE  \n",
       "138549  POSITIVE  \n",
       "138550  POSITIVE  \n",
       "\n",
       "[133832 rows x 3 columns]"
      ]
     },
     "execution_count": 16,
     "metadata": {},
     "output_type": "execute_result"
    }
   ],
   "source": [
    "df_final"
   ]
  }
 ],
 "metadata": {
  "kernelspec": {
   "display_name": "Python 3",
   "language": "python",
   "name": "python3"
  },
  "language_info": {
   "codemirror_mode": {
    "name": "ipython",
    "version": 3
   },
   "file_extension": ".py",
   "mimetype": "text/x-python",
   "name": "python",
   "nbconvert_exporter": "python",
   "pygments_lexer": "ipython3",
   "version": "3.8.8"
  }
 },
 "nbformat": 4,
 "nbformat_minor": 4
}
